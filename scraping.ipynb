# IMPORT LIBRARIES
import nltk
from newspaper import Article

# GET THE ARTICLE
url = "https://finance.yahoo.com/news/aptiv-release-first-quarter-2021-203000867.html"
article = Article(url)

# DO SOME NLP
article.download()
article.parse()
nltk.download('punkt')
article.nlp()

# GET THE AUTHORS
article.authors 

# Get the publish date
article.publish_date

# Get the top image
print(article.text)

# Get a summary of the article
print(article.summary)

